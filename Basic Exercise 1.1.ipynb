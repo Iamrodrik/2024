{
 "cells": [
  {
   "cell_type": "code",
   "execution_count": 1,
   "metadata": {},
   "outputs": [
    {
     "name": "stdout",
     "output_type": "stream",
     "text": [
      "Hello, World!\n"
     ]
    }
   ],
   "source": [
    "#1. Print Statement\n",
    "print(\"Hello, World!\") #print function for output\n"
   ]
  },
  {
   "cell_type": "code",
   "execution_count": 6,
   "metadata": {},
   "outputs": [
    {
     "name": "stdout",
     "output_type": "stream",
     "text": [
      "5\n",
      "Hello\n"
     ]
    }
   ],
   "source": [
    "#2. Variable\n",
    "x = 5   # x variable\n",
    "y = \"Hello\" # y variable\n",
    "print(x)\n",
    "print(y)"
   ]
  },
  {
   "cell_type": "code",
   "execution_count": 11,
   "metadata": {},
   "outputs": [
    {
     "name": "stdout",
     "output_type": "stream",
     "text": [
      "10 10.0 Python True\n"
     ]
    }
   ],
   "source": [
    "#3. Data Type\n",
    "\n",
    "integer = 10\n",
    "float_number = 10.0\n",
    "string = \"Python\"\n",
    "boolean = True # true or false\n",
    "print(integer,float_number,string,boolean)\n",
    "\n"
   ]
  },
  {
   "cell_type": "code",
   "execution_count": 10,
   "metadata": {},
   "outputs": [
    {
     "name": "stdout",
     "output_type": "stream",
     "text": [
      "[1, 2, 3, 4, 5]\n",
      "3\n"
     ]
    }
   ],
   "source": [
    "#4. List\n",
    "my_list = [1,2,3,4,5]\n",
    "print(my_list)\n",
    "print(my_list[2])"
   ]
  },
  {
   "cell_type": "code",
   "execution_count": 16,
   "metadata": {},
   "outputs": [
    {
     "name": "stdout",
     "output_type": "stream",
     "text": [
      "(1, 2, 3, 4, 5)\n",
      "4\n"
     ]
    }
   ],
   "source": [
    "#5. Tuples\n",
    "my_tuple = (1,2,3,4,5)\n",
    "print(my_tuple)\n",
    "print(my_tuple[3])"
   ]
  },
  {
   "cell_type": "code",
   "execution_count": 15,
   "metadata": {},
   "outputs": [
    {
     "name": "stdout",
     "output_type": "stream",
     "text": [
      "{'number': 8, 'name': 'Hasan', 'age': '27'}\n",
      "27\n"
     ]
    }
   ],
   "source": [
    "#6. Dictionary\n",
    "my_dictionary = {\"number\": 8, \"name\": \"Hasan\",\"age\":\"27\"}\n",
    "print(my_dictionary)\n",
    "print(my_dictionary[\"age\"])"
   ]
  },
  {
   "cell_type": "code",
   "execution_count": 22,
   "metadata": {},
   "outputs": [
    {
     "name": "stdout",
     "output_type": "stream",
     "text": [
      "zero\n"
     ]
    }
   ],
   "source": [
    "#7. Conditional Statements\n",
    "x=0\n",
    "if x>1:\n",
    "    print(\"positive\")\n",
    "elif x==0:\n",
    "    print(\"zero\")\n",
    "else:\n",
    "    print(\"negative\")        "
   ]
  },
  {
   "cell_type": "code",
   "execution_count": 4,
   "metadata": {},
   "outputs": [
    {
     "name": "stdout",
     "output_type": "stream",
     "text": [
      "0\n",
      "1\n",
      "2\n",
      "3\n",
      "4\n",
      "5\n",
      "6\n",
      "7\n",
      "8\n",
      "9\n",
      "10\n",
      "9\n",
      "8\n",
      "7\n",
      "6\n",
      "5\n",
      "4\n",
      "3\n",
      "2\n",
      "1\n"
     ]
    }
   ],
   "source": [
    "#8. Loops\n",
    "x = 10\n",
    "for i in range(10):\n",
    "    print(i)\n",
    "while x>0:\n",
    "    print(x)\n",
    "    x -=1    "
   ]
  },
  {
   "cell_type": "code",
   "execution_count": 5,
   "metadata": {},
   "outputs": [
    {
     "name": "stdout",
     "output_type": "stream",
     "text": [
      "Hello, jon!\n",
      "You are welcome\n"
     ]
    }
   ],
   "source": [
    "#9. Function:\n",
    "def greet(name):\n",
    "    print(\"Hello, \"+name+\"!\")\n",
    "def message():\n",
    "    print(\"You are welcome\")    \n",
    "greet(\"jon\")\n",
    "message()"
   ]
  },
  {
   "cell_type": "code",
   "execution_count": 4,
   "metadata": {},
   "outputs": [
    {
     "name": "stdout",
     "output_type": "stream",
     "text": [
      "Tom 2\n",
      "Tomi 3\n"
     ]
    }
   ],
   "source": [
    "#10. Classes and Object\n",
    "class Cat:\n",
    "    def __init__(self, name, age):\n",
    "        self.name = name\n",
    "        self.age = age  \n",
    "cat1 = Cat(\"Tom\", 2)\n",
    "cat2 = Cat(\"Tomi\",3)\n",
    "print(cat1.name,cat1.age)\n",
    "print(cat2.name,cat2.age)\n",
    "        "
   ]
  }
 ],
 "metadata": {
  "kernelspec": {
   "display_name": "Python 3",
   "language": "python",
   "name": "python3"
  },
  "language_info": {
   "codemirror_mode": {
    "name": "ipython",
    "version": 3
   },
   "file_extension": ".py",
   "mimetype": "text/x-python",
   "name": "python",
   "nbconvert_exporter": "python",
   "pygments_lexer": "ipython3",
   "version": "3.12.1"
  }
 },
 "nbformat": 4,
 "nbformat_minor": 2
}
