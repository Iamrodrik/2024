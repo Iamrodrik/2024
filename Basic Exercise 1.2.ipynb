{
 "cells": [
  {
   "cell_type": "code",
   "execution_count": 4,
   "metadata": {},
   "outputs": [
    {
     "name": "stdout",
     "output_type": "stream",
     "text": [
      "Hello, Programmer!\n",
      "Welcome to python world.This is just beginning.Try your best to write code.\n"
     ]
    }
   ],
   "source": [
    "#1. Print Statement\n",
    "print(\"Hello, Programmers!\") \n",
    "print(\"Welcome to python world.This is just beginning.Try your best to write code.\")\n"
   ]
  },
  {
   "cell_type": "code",
   "execution_count": 8,
   "metadata": {},
   "outputs": [
    {
     "name": "stdout",
     "output_type": "stream",
     "text": [
      "Hello, Programmers! Your are number 1 priority is Python now.\n"
     ]
    }
   ],
   "source": [
    "#2. Variable\n",
    "user_name = \"Programmers\"   \n",
    "user_priority = 1 \n",
    "message = \"Hello, {}! Your are number {} priority is Python now.\".format(user_name,user_priority)\n",
    "print(message)"
   ]
  },
  {
   "cell_type": "code",
   "execution_count": 12,
   "metadata": {},
   "outputs": [
    {
     "name": "stdout",
     "output_type": "stream",
     "text": [
      "I am a Programmer. I am 15 years old. I have total balance 100.5 $. All I said is True.\n"
     ]
    }
   ],
   "source": [
    "#3. Data Type\n",
    "user_name = \"Programmer\"\n",
    "user_age = 15\n",
    "user_balance = 100.50\n",
    "data = True\n",
    "message = f\"I am a {user_name}. I am {user_age} years old. I have total balance {user_balance} $. All I said is {data}.\"\n",
    "print(message)\n"
   ]
  },
  {
   "cell_type": "code",
   "execution_count": 25,
   "metadata": {},
   "outputs": [
    {
     "name": "stdout",
     "output_type": "stream",
     "text": [
      "[8, 'bat', 'ball', 'cycle', 'World']\n",
      "[8, 'bat', 'ball', 'cycle', 'World', 'data']\n",
      "[8, 'bat', 'fire', 'ball', 'cycle', 'World', 'data']\n",
      "['bat', 'fire', 'ball', 'cycle', 'World', 'data']\n",
      "['bat', 'fire', 'ball', 'cycle', 'World']\n",
      "['bat', 'ball', 'cycle', 'World']\n",
      "World\n"
     ]
    }
   ],
   "source": [
    "#4. List\n",
    "my_item = [8,\"bat\",\"ball\",\"cycle\",\"World\"]\n",
    "print(my_item)\n",
    "my_item.append(\"data\")\n",
    "print(my_item)\n",
    "my_item.insert(2,\"fire\")\n",
    "print(my_item)\n",
    "my_item.pop(0)\n",
    "print(my_item)\n",
    "del my_item[-1]\n",
    "print(my_item)\n",
    "my_item.remove(\"fire\")\n",
    "print(my_item)\n",
    "print(my_item[-1])"
   ]
  },
  {
   "cell_type": "code",
   "execution_count": 122,
   "metadata": {},
   "outputs": [
    {
     "name": "stdout",
     "output_type": "stream",
     "text": [
      "('meet', 'sleep', 'code', 'alone')\n",
      "meet\n",
      "meet sleep code alone\n",
      "I like to eat meet.\n",
      "I am alone.\n",
      "\n",
      "I like meet.I like sleep.I like code.I like alone."
     ]
    }
   ],
   "source": [
    "#5. Tuples\n",
    "likes = (\"meet\", \"sleep\", \"code\",\"alone\")\n",
    "a,b,c,d = likes\n",
    "print(likes)\n",
    "print(likes[0])\n",
    "print(a,b,c,d)\n",
    "print(f\"I like to eat {a}.\")\n",
    "print(f\"I am {likes[-1]}.\\n\")\n",
    "for l in likes:\n",
    "    print(f\"I like {l}.\" ,end=\"\")"
   ]
  },
  {
   "cell_type": "code",
   "execution_count": 59,
   "metadata": {},
   "outputs": [
    {
     "name": "stdout",
     "output_type": "stream",
     "text": [
      "{'name': 'Programmer', 'age': 20, 'city': 'Dhaka', 'profession': 'coding'}\n",
      "I am a Programmer.\n",
      "{'name': 'Programmer', 'age': 20, 'city': 'Dhaka', 'profession': 'coding', 'gender': 'male'}\n",
      "{'name': 'Programmer', 'profession': 'coding', 'gender': 'male'}\n",
      "The dictionary item are:\n",
      "name: Programmer\n",
      "profession: coding\n",
      "gender: male\n"
     ]
    }
   ],
   "source": [
    "#6. Dictionary\n",
    "my_dictionary = {\n",
    "    \"name\":\"Programmer\",\n",
    "    \"age\":20,\n",
    "    \"city\":\"Dhaka\",\n",
    "    \"profession\":\"coding\" \n",
    "    }\n",
    "print(my_dictionary)\n",
    "print(f\"I am a {my_dictionary[\"name\"]}.\")\n",
    "my_dictionary[\"gender\"]=\"male\"\n",
    "print(my_dictionary)\n",
    "del my_dictionary[\"city\"]\n",
    "my_dictionary.pop(\"age\")\n",
    "print(my_dictionary)\n",
    "print(\"The dictionary item are:\")\n",
    "for key,value in my_dictionary.items():\n",
    "    print(f\"{key}: {value}\")\n",
    "\n"
   ]
  },
  {
   "cell_type": "code",
   "execution_count": 113,
   "metadata": {},
   "outputs": [
    {
     "name": "stdout",
     "output_type": "stream",
     "text": [
      "please try again\n"
     ]
    }
   ],
   "source": [
    "#7. Conditional Statements\n",
    "import random\n",
    "random_number = random.randint(0,11)\n",
    "\n",
    "if random_number<5:\n",
    "    print(\"Not right, try again\")\n",
    "elif random_number<9:\n",
    "    print(\"Please try again\")\n",
    "elif random_number==10:\n",
    "    print(\"Correct number \")\n",
    "else:\n",
    "    print(\"Try again\")\n",
    "               \n"
   ]
  },
  {
   "cell_type": "code",
   "execution_count": 129,
   "metadata": {},
   "outputs": [
    {
     "name": "stdout",
     "output_type": "stream",
     "text": [
      "123456\n"
     ]
    }
   ],
   "source": [
    "#8. Loops\n",
    "x = 10\n",
    "for i in range(10):\n",
    "    print(i)\n",
    "while x>0:\n",
    "    print(x)\n",
    "    x -=1    "
   ]
  },
  {
   "cell_type": "code",
   "execution_count": 5,
   "metadata": {},
   "outputs": [
    {
     "name": "stdout",
     "output_type": "stream",
     "text": [
      "Hello, jon!\n",
      "You are welcome\n"
     ]
    }
   ],
   "source": [
    "#9. Function:\n",
    "def greet(name):\n",
    "    print(\"Hello, \"+name+\"!\")\n",
    "def message():\n",
    "    print(\"You are welcome\")    \n",
    "greet(\"jon\")\n",
    "message()"
   ]
  },
  {
   "cell_type": "code",
   "execution_count": 4,
   "metadata": {},
   "outputs": [
    {
     "name": "stdout",
     "output_type": "stream",
     "text": [
      "Tom 2\n",
      "Tomi 3\n"
     ]
    }
   ],
   "source": [
    "#10. Classes and Object\n",
    "class Cat:\n",
    "    def __init__(self, name, age):\n",
    "        self.name = name\n",
    "        self.age = age  \n",
    "cat1 = Cat(\"Tom\", 2)\n",
    "cat2 = Cat(\"Tomi\",3)\n",
    "print(cat1.name,cat1.age)\n",
    "print(cat2.name,cat2.age)\n",
    "        "
   ]
  }
 ],
 "metadata": {
  "kernelspec": {
   "display_name": "Python 3",
   "language": "python",
   "name": "python3"
  },
  "language_info": {
   "codemirror_mode": {
    "name": "ipython",
    "version": 3
   },
   "file_extension": ".py",
   "mimetype": "text/x-python",
   "name": "python",
   "nbconvert_exporter": "python",
   "pygments_lexer": "ipython3",
   "version": "3.12.1"
  }
 },
 "nbformat": 4,
 "nbformat_minor": 2
}
